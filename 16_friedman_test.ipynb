{
 "cells": [
  {
   "cell_type": "code",
   "execution_count": 57,
   "id": "fa23b8b9-7a90-4b23-8894-3184b547740a",
   "metadata": {},
   "outputs": [],
   "source": [
    "import pandas as pd\n",
    "import numpy as np\n",
    "\n",
    "df_knn = pd.read_csv('KNN_resultados.csv')\n",
    "df_xgb = pd.read_csv('XGBoost_resultados.csv')\n",
    "df_ARIMA = pd.read_csv('ARIMA_resultados.csv')"
   ]
  },
  {
   "cell_type": "code",
   "execution_count": 58,
   "id": "c761eb8f-a8e5-41d4-b422-b1e69c4dcfda",
   "metadata": {},
   "outputs": [],
   "source": [
    "df_knn = df_knn.drop(columns=[\"Unnamed: 0\", \"Overfitting?\", \"Underfitting?\"])\n",
    "df_knn = df_knn.rename(columns={\n",
    "    'Real':'Valores Reais',\n",
    "    'Previsto':'knn_Previsto',\n",
    "    'Erro Absoluto':'knn_MAE',\n",
    "    'Train RMSE':'knn_train_RMSE',\n",
    "    'Test RMSE':'knn_test_RMSE'\n",
    "        })"
   ]
  },
  {
   "cell_type": "code",
   "execution_count": 59,
   "id": "aeb6d3f5-eeee-4343-9eec-88866abb731f",
   "metadata": {},
   "outputs": [],
   "source": [
    "df_xgb = df_xgb.drop(columns=[\"Unnamed: 0\", \"Overfitting?\", \"Underfitting?\"])\n",
    "df_xgb = df_xgb.rename(columns={\n",
    "    'Real':'Valores Reais',\n",
    "    'Previsto':'xgb_Previsto',\n",
    "    'Erro Absoluto':'xgb_MAE',\n",
    "    'Train RMSE':'xgb_train_RMSE',\n",
    "    'Test RMSE':'xgb_test_RMSE'\n",
    "        })"
   ]
  },
  {
   "cell_type": "code",
   "execution_count": 60,
   "id": "8bdd3a77-74ad-4629-b8dc-ce364788182a",
   "metadata": {},
   "outputs": [],
   "source": [
    "df_ARIMA = df_ARIMA.drop(columns=[\"Unnamed: 0\", \"Overfitting?\", \"Underfitting?\"])\n",
    "df_ARIMA = df_ARIMA.rename(columns={\n",
    "    'Real':'Valores Reais',\n",
    "    'Previsto':'ARIMA_Previsto',\n",
    "    'Erro Absoluto':'ARIMA_MAE',\n",
    "    'Train RMSE':'ARIMA_train_RMSE',\n",
    "    'Test RMSE':'ARIMA_test_RMSE'\n",
    "        })"
   ]
  },
  {
   "cell_type": "code",
   "execution_count": 61,
   "id": "5cef9a4e-9444-4d66-8d1f-62c527e8f3d6",
   "metadata": {},
   "outputs": [],
   "source": [
    "df = pd.merge(df_knn, df_xgb, on=['Empresa', 'Data', 'Valores Reais'], how='right')\n",
    "df = pd.merge(df, df_ARIMA, on=['Empresa', 'Data', 'Valores Reais'], how='right')"
   ]
  },
  {
   "cell_type": "code",
   "execution_count": 62,
   "id": "0dea10e8-278b-4f6f-8d99-4168167fb353",
   "metadata": {},
   "outputs": [],
   "source": [
    "from sklearn.metrics import mean_squared_error\n",
    "import warnings\n",
    "warnings.simplefilter(action='ignore', category=FutureWarning)\n",
    "\n",
    "# Função para calcular RMSE\n",
    "def calcular_rmse_knn(df):\n",
    "    return np.sqrt(mean_squared_error(df['Valores Reais'], df['knn_Previsto']))\n",
    "\n",
    "# Aplicar por grupo (por empresa)\n",
    "rmse_por_empresa_knn = df.groupby('Empresa').apply(calcular_rmse_knn).reset_index()\n",
    "rmse_por_empresa_knn.columns = ['Empresa', 'RMSE_knn']"
   ]
  },
  {
   "cell_type": "code",
   "execution_count": 63,
   "id": "e812476a-9ca9-4891-a3d6-749336b38d21",
   "metadata": {},
   "outputs": [],
   "source": [
    "# Função para calcular RMSE\n",
    "def calcular_rmse_xgb(df):\n",
    "    return np.sqrt(mean_squared_error(df['Valores Reais'], df['xgb_Previsto']))\n",
    "\n",
    "# Aplicar por grupo (por empresa)\n",
    "rmse_por_empresa_xgb = df.groupby('Empresa').apply(calcular_rmse_xgb).reset_index()\n",
    "rmse_por_empresa_xgb.columns = ['Empresa', 'RMSE_xgb']"
   ]
  },
  {
   "cell_type": "code",
   "execution_count": 64,
   "id": "2d85d9ea-e218-4c4f-960a-0d348023834d",
   "metadata": {},
   "outputs": [],
   "source": [
    "# Função para calcular RMSE\n",
    "def calcular_rmse_ARIMA(df):\n",
    "    return np.sqrt(mean_squared_error(df['Valores Reais'], df['ARIMA_Previsto']))\n",
    "\n",
    "# Aplicar por grupo (por empresa)\n",
    "rmse_por_empresa_ARIMA = df.groupby('Empresa').apply(calcular_rmse_ARIMA).reset_index()\n",
    "rmse_por_empresa_ARIMA.columns = ['Empresa', 'RMSE_ARIMA']"
   ]
  },
  {
   "cell_type": "code",
   "execution_count": 65,
   "id": "96ea6e12-f853-41c6-9b23-7714064c22e3",
   "metadata": {},
   "outputs": [
    {
     "name": "stdout",
     "output_type": "stream",
     "text": [
      "Maior RMSE KNN: Empresa       Petrobras\n",
      "RMSE_knn       0.442604\n",
      "RMSE_xgb       0.324413\n",
      "RMSE_ARIMA     0.770676\n",
      "Name: 193, dtype: object\n",
      "Menor RMSE KNN: Empresa       Dtcom Direct\n",
      "RMSE_knn          0.000028\n",
      "RMSE_xgb          0.000027\n",
      "RMSE_ARIMA        0.000039\n",
      "Name: 78, dtype: object\n",
      "Maior RMSE XGB: Empresa       Petrobras\n",
      "RMSE_knn       0.442604\n",
      "RMSE_xgb       0.324413\n",
      "RMSE_ARIMA     0.770676\n",
      "Name: 193, dtype: object\n",
      "Menor RMSE XGB: Empresa       Dtcom Direct\n",
      "RMSE_knn          0.000028\n",
      "RMSE_xgb          0.000027\n",
      "RMSE_ARIMA        0.000039\n",
      "Name: 78, dtype: object\n",
      "Maior RMSE ARIMA: Empresa       Petrobras\n",
      "RMSE_knn       0.442604\n",
      "RMSE_xgb       0.324413\n",
      "RMSE_ARIMA     0.770676\n",
      "Name: 193, dtype: object\n",
      "Menor RMSE ARIMA: Empresa       Recrusul\n",
      "RMSE_knn      0.000058\n",
      "RMSE_xgb      0.000058\n",
      "RMSE_ARIMA    0.000022\n",
      "Name: 210, dtype: object\n"
     ]
    }
   ],
   "source": [
    "rmse_final = pd.merge(rmse_por_empresa_knn, rmse_por_empresa_xgb, on=['Empresa'], how='right')\n",
    "rmse_final = pd.merge(rmse_final, rmse_por_empresa_ARIMA, on=['Empresa'], how='right')\n",
    "\n",
    "empresa_maior_rmse_knn = rmse_final.loc[rmse_final['RMSE_knn'].idxmax()]\n",
    "empresa_menor_rmse_knn = rmse_final.loc[rmse_final['RMSE_knn'].idxmin()]\n",
    "\n",
    "# Maior e menor RMSE para o XGB\n",
    "empresa_maior_rmse_xgb = rmse_final.loc[rmse_final['RMSE_xgb'].idxmax()]\n",
    "empresa_menor_rmse_xgb = rmse_final.loc[rmse_final['RMSE_xgb'].idxmin()]\n",
    "\n",
    "# Maior e menor RMSE para o ARIMA\n",
    "empresa_maior_rmse_ARIMA = rmse_final.loc[rmse_final['RMSE_ARIMA'].idxmax()]\n",
    "empresa_menor_rmse_ARIMA = rmse_final.loc[rmse_final['RMSE_ARIMA'].idxmin()]\n",
    "\n",
    "print(\"Maior RMSE KNN:\", empresa_maior_rmse_knn)\n",
    "print(\"Menor RMSE KNN:\", empresa_menor_rmse_knn)\n",
    "\n",
    "print(\"Maior RMSE XGB:\", empresa_maior_rmse_xgb)\n",
    "print(\"Menor RMSE XGB:\", empresa_menor_rmse_xgb)\n",
    "\n",
    "print(\"Maior RMSE ARIMA:\", empresa_maior_rmse_ARIMA)\n",
    "print(\"Menor RMSE ARIMA:\", empresa_menor_rmse_ARIMA)"
   ]
  },
  {
   "cell_type": "code",
   "execution_count": 66,
   "id": "7a052a0b-9b58-4e22-b54e-69a191cae398",
   "metadata": {},
   "outputs": [
    {
     "data": {
      "text/html": [
       "<div>\n",
       "<style scoped>\n",
       "    .dataframe tbody tr th:only-of-type {\n",
       "        vertical-align: middle;\n",
       "    }\n",
       "\n",
       "    .dataframe tbody tr th {\n",
       "        vertical-align: top;\n",
       "    }\n",
       "\n",
       "    .dataframe thead th {\n",
       "        text-align: right;\n",
       "    }\n",
       "</style>\n",
       "<table border=\"1\" class=\"dataframe\">\n",
       "  <thead>\n",
       "    <tr style=\"text-align: right;\">\n",
       "      <th></th>\n",
       "      <th>Empresa</th>\n",
       "      <th>knn_MAE</th>\n",
       "      <th>knn_train_RMSE</th>\n",
       "      <th>knn_test_RMSE</th>\n",
       "      <th>xgb_MAE</th>\n",
       "      <th>xgb_train_RMSE</th>\n",
       "      <th>xgb_test_RMSE</th>\n",
       "      <th>ARIMA_MAE</th>\n",
       "      <th>ARIMA_train_RMSE</th>\n",
       "      <th>ARIMA_test_RMSE</th>\n",
       "    </tr>\n",
       "  </thead>\n",
       "  <tbody>\n",
       "    <tr>\n",
       "      <th>0</th>\n",
       "      <td>3tentos</td>\n",
       "      <td>0.005229</td>\n",
       "      <td>0.005851</td>\n",
       "      <td>0.005229</td>\n",
       "      <td>0.006244</td>\n",
       "      <td>0.008663</td>\n",
       "      <td>0.006244</td>\n",
       "      <td>0.005168</td>\n",
       "      <td>0.009944</td>\n",
       "      <td>0.005168</td>\n",
       "    </tr>\n",
       "    <tr>\n",
       "      <th>1</th>\n",
       "      <td>Aco Altona</td>\n",
       "      <td>0.000354</td>\n",
       "      <td>0.000281</td>\n",
       "      <td>0.000354</td>\n",
       "      <td>0.000361</td>\n",
       "      <td>0.000370</td>\n",
       "      <td>0.000361</td>\n",
       "      <td>0.000574</td>\n",
       "      <td>0.000579</td>\n",
       "      <td>0.000574</td>\n",
       "    </tr>\n",
       "    <tr>\n",
       "      <th>2</th>\n",
       "      <td>Aeris</td>\n",
       "      <td>0.003211</td>\n",
       "      <td>0.004726</td>\n",
       "      <td>0.003211</td>\n",
       "      <td>0.004010</td>\n",
       "      <td>0.006807</td>\n",
       "      <td>0.004010</td>\n",
       "      <td>0.003524</td>\n",
       "      <td>0.006561</td>\n",
       "      <td>0.003524</td>\n",
       "    </tr>\n",
       "    <tr>\n",
       "      <th>3</th>\n",
       "      <td>Afluente T</td>\n",
       "      <td>0.000388</td>\n",
       "      <td>0.000294</td>\n",
       "      <td>0.000388</td>\n",
       "      <td>0.000364</td>\n",
       "      <td>0.000344</td>\n",
       "      <td>0.000364</td>\n",
       "      <td>0.000543</td>\n",
       "      <td>0.000327</td>\n",
       "      <td>0.000543</td>\n",
       "    </tr>\n",
       "    <tr>\n",
       "      <th>4</th>\n",
       "      <td>Agrogalaxy</td>\n",
       "      <td>0.008917</td>\n",
       "      <td>0.007636</td>\n",
       "      <td>0.008917</td>\n",
       "      <td>0.012790</td>\n",
       "      <td>0.011182</td>\n",
       "      <td>0.012790</td>\n",
       "      <td>0.013759</td>\n",
       "      <td>0.013126</td>\n",
       "      <td>0.013759</td>\n",
       "    </tr>\n",
       "    <tr>\n",
       "      <th>...</th>\n",
       "      <td>...</td>\n",
       "      <td>...</td>\n",
       "      <td>...</td>\n",
       "      <td>...</td>\n",
       "      <td>...</td>\n",
       "      <td>...</td>\n",
       "      <td>...</td>\n",
       "      <td>...</td>\n",
       "      <td>...</td>\n",
       "      <td>...</td>\n",
       "    </tr>\n",
       "    <tr>\n",
       "      <th>275</th>\n",
       "      <td>Wilson Sons</td>\n",
       "      <td>0.001594</td>\n",
       "      <td>0.001086</td>\n",
       "      <td>0.001594</td>\n",
       "      <td>0.002507</td>\n",
       "      <td>0.001897</td>\n",
       "      <td>0.002507</td>\n",
       "      <td>0.002549</td>\n",
       "      <td>0.002134</td>\n",
       "      <td>0.002549</td>\n",
       "    </tr>\n",
       "    <tr>\n",
       "      <th>276</th>\n",
       "      <td>Wiz Co</td>\n",
       "      <td>0.006316</td>\n",
       "      <td>0.004089</td>\n",
       "      <td>0.006316</td>\n",
       "      <td>0.006547</td>\n",
       "      <td>0.006479</td>\n",
       "      <td>0.006547</td>\n",
       "      <td>0.008405</td>\n",
       "      <td>0.006001</td>\n",
       "      <td>0.008405</td>\n",
       "    </tr>\n",
       "    <tr>\n",
       "      <th>277</th>\n",
       "      <td>Wlm Ind Com</td>\n",
       "      <td>0.000201</td>\n",
       "      <td>0.000173</td>\n",
       "      <td>0.000201</td>\n",
       "      <td>0.000181</td>\n",
       "      <td>0.000202</td>\n",
       "      <td>0.000181</td>\n",
       "      <td>0.000208</td>\n",
       "      <td>0.000234</td>\n",
       "      <td>0.000208</td>\n",
       "    </tr>\n",
       "    <tr>\n",
       "      <th>278</th>\n",
       "      <td>Yduqs Part</td>\n",
       "      <td>0.005485</td>\n",
       "      <td>0.005962</td>\n",
       "      <td>0.005485</td>\n",
       "      <td>0.008619</td>\n",
       "      <td>0.011299</td>\n",
       "      <td>0.008619</td>\n",
       "      <td>0.007674</td>\n",
       "      <td>0.010225</td>\n",
       "      <td>0.007674</td>\n",
       "    </tr>\n",
       "    <tr>\n",
       "      <th>279</th>\n",
       "      <td>Zamp S.A.</td>\n",
       "      <td>0.004677</td>\n",
       "      <td>0.004776</td>\n",
       "      <td>0.004677</td>\n",
       "      <td>0.006028</td>\n",
       "      <td>0.007742</td>\n",
       "      <td>0.006028</td>\n",
       "      <td>0.007346</td>\n",
       "      <td>0.007992</td>\n",
       "      <td>0.007346</td>\n",
       "    </tr>\n",
       "  </tbody>\n",
       "</table>\n",
       "<p>280 rows × 10 columns</p>\n",
       "</div>"
      ],
      "text/plain": [
       "         Empresa   knn_MAE  knn_train_RMSE  knn_test_RMSE   xgb_MAE  \\\n",
       "0        3tentos  0.005229        0.005851       0.005229  0.006244   \n",
       "1     Aco Altona  0.000354        0.000281       0.000354  0.000361   \n",
       "2          Aeris  0.003211        0.004726       0.003211  0.004010   \n",
       "3     Afluente T  0.000388        0.000294       0.000388  0.000364   \n",
       "4     Agrogalaxy  0.008917        0.007636       0.008917  0.012790   \n",
       "..           ...       ...             ...            ...       ...   \n",
       "275  Wilson Sons  0.001594        0.001086       0.001594  0.002507   \n",
       "276       Wiz Co  0.006316        0.004089       0.006316  0.006547   \n",
       "277  Wlm Ind Com  0.000201        0.000173       0.000201  0.000181   \n",
       "278   Yduqs Part  0.005485        0.005962       0.005485  0.008619   \n",
       "279    Zamp S.A.  0.004677        0.004776       0.004677  0.006028   \n",
       "\n",
       "     xgb_train_RMSE  xgb_test_RMSE  ARIMA_MAE  ARIMA_train_RMSE  \\\n",
       "0          0.008663       0.006244   0.005168          0.009944   \n",
       "1          0.000370       0.000361   0.000574          0.000579   \n",
       "2          0.006807       0.004010   0.003524          0.006561   \n",
       "3          0.000344       0.000364   0.000543          0.000327   \n",
       "4          0.011182       0.012790   0.013759          0.013126   \n",
       "..              ...            ...        ...               ...   \n",
       "275        0.001897       0.002507   0.002549          0.002134   \n",
       "276        0.006479       0.006547   0.008405          0.006001   \n",
       "277        0.000202       0.000181   0.000208          0.000234   \n",
       "278        0.011299       0.008619   0.007674          0.010225   \n",
       "279        0.007742       0.006028   0.007346          0.007992   \n",
       "\n",
       "     ARIMA_test_RMSE  \n",
       "0           0.005168  \n",
       "1           0.000574  \n",
       "2           0.003524  \n",
       "3           0.000543  \n",
       "4           0.013759  \n",
       "..               ...  \n",
       "275         0.002549  \n",
       "276         0.008405  \n",
       "277         0.000208  \n",
       "278         0.007674  \n",
       "279         0.007346  \n",
       "\n",
       "[280 rows x 10 columns]"
      ]
     },
     "execution_count": 66,
     "metadata": {},
     "output_type": "execute_result"
    }
   ],
   "source": [
    "grupo = df.groupby('Empresa')[['knn_MAE', 'knn_train_RMSE', 'knn_test_RMSE', 'xgb_MAE', 'xgb_train_RMSE', 'xgb_test_RMSE', 'ARIMA_MAE', 'ARIMA_train_RMSE', 'ARIMA_test_RMSE']].mean().reset_index()\n",
    "grupo #media do MAE, media do RMSE de treino e media do RMSE teste por modelo"
   ]
  },
  {
   "cell_type": "code",
   "execution_count": 67,
   "id": "5d9f41f3-b7a1-4784-bcd8-578d160ee77a",
   "metadata": {},
   "outputs": [
    {
     "name": "stdout",
     "output_type": "stream",
     "text": [
      "MAE Médio KNN: 0.009458392368906266\n",
      "RMSE Treino Médio KNN: 0.00993908888274029\n",
      "RMSE Teste Médio KNN: 0.008573297003121443\n",
      "MAE Médio XGB: 0.013974778733443025\n",
      "RMSE Treino Médio XGB: 0.014617835929099474\n",
      "RMSE Teste Médio XGB: 0.013974778733443025\n",
      "MAE Médio ARIMA: 0.01621570211526307\n",
      "RMSE Treino Médio ARIMA: 0.01853541382981382\n",
      "RMSE Teste Médio ARIMA: 0.01621570211526307\n"
     ]
    }
   ],
   "source": [
    "knn_MAE_media = df['knn_MAE'].mean()\n",
    "knn_train_RMSE_media = df['knn_train_RMSE'].mean()\n",
    "knn_test_RMSE_media = grupo['knn_test_RMSE'].mean()\n",
    "\n",
    "xgb_MAE_media = df['xgb_MAE'].mean()\n",
    "xgb_train_RMSE_media = df['xgb_train_RMSE'].mean()\n",
    "xgb_test_RMSE_media = df['xgb_test_RMSE'].mean()\n",
    "\n",
    "ARIMA_MAE_media = df['ARIMA_MAE'].mean()\n",
    "ARIMA_train_RMSE_media = df['ARIMA_train_RMSE'].mean()\n",
    "ARIMA_test_RMSE_media = df['ARIMA_test_RMSE'].mean()\n",
    "\n",
    "print(f'MAE Médio KNN: {knn_MAE_media}') #é diferente do MAE geral do modelo pois as médias de cada empresas possuem ns diferentes (datasets com observações diferentes)\n",
    "print(f'RMSE Treino Médio KNN: {knn_train_RMSE_media}')\n",
    "print(f'RMSE Teste Médio KNN: {knn_test_RMSE_media}')\n",
    "\n",
    "print(f'MAE Médio XGB: {xgb_MAE_media}')\n",
    "print(f'RMSE Treino Médio XGB: {xgb_train_RMSE_media}')\n",
    "print(f'RMSE Teste Médio XGB: {xgb_test_RMSE_media}')\n",
    "\n",
    "print(f'MAE Médio ARIMA: {ARIMA_MAE_media}')\n",
    "print(f'RMSE Treino Médio ARIMA: {ARIMA_train_RMSE_media}')\n",
    "print(f'RMSE Teste Médio ARIMA: {ARIMA_test_RMSE_media}')"
   ]
  },
  {
   "cell_type": "code",
   "execution_count": 68,
   "id": "016fa32b-3c8b-454e-a4a1-3892f49f5356",
   "metadata": {},
   "outputs": [
    {
     "name": "stdout",
     "output_type": "stream",
     "text": [
      "MAE Std KNN: 0.0398768713513208\n",
      "RMSE Treino Std KNN: 0.04726022671238258\n",
      "RMSE Teste Std KNN: 0.019966259284070597\n",
      "MAE Std XGB: 0.04114984947850017\n",
      "RMSE Treino Std XGB: 0.03042833801038499\n",
      "RMSE Teste Std XGB: 0.04114984947850017\n",
      "MAE Std ARIMA: 0.06632561698895731\n",
      "RMSE Treino Std ARIMA: 0.07881102829236243\n",
      "RMSE Teste Std ARIMA: 0.06632561698895731\n"
     ]
    }
   ],
   "source": [
    "knn_MAE_std = df['knn_MAE'].std()\n",
    "knn_train_RMSE_std = df['knn_train_RMSE'].std()\n",
    "knn_test_RMSE_std = grupo['knn_test_RMSE'].std()\n",
    "\n",
    "xgb_MAE_std = df['xgb_MAE'].std()\n",
    "xgb_train_RMSE_std = df['xgb_train_RMSE'].std()\n",
    "xgb_test_RMSE_std = df['xgb_test_RMSE'].std()\n",
    "\n",
    "ARIMA_MAE_std = df['ARIMA_MAE'].std()\n",
    "ARIMA_train_RMSE_std = df['ARIMA_train_RMSE'].std()\n",
    "ARIMA_test_RMSE_std = df['ARIMA_test_RMSE'].std()\n",
    "\n",
    "print(f'MAE Std KNN: {knn_MAE_std}') #é diferente do MAE geral do modelo pois as médias de cada empresas possuem ns diferentes (datasets com observações diferentes)\n",
    "print(f'RMSE Treino Std KNN: {knn_train_RMSE_std}')\n",
    "print(f'RMSE Teste Std KNN: {knn_test_RMSE_std}')\n",
    "\n",
    "print(f'MAE Std XGB: {xgb_MAE_std}')\n",
    "print(f'RMSE Treino Std XGB: {xgb_train_RMSE_std}')\n",
    "print(f'RMSE Teste Std XGB: {xgb_test_RMSE_std}')\n",
    "\n",
    "print(f'MAE Std ARIMA: {ARIMA_MAE_std}')\n",
    "print(f'RMSE Treino Std ARIMA: {ARIMA_train_RMSE_std}')\n",
    "print(f'RMSE Teste Std ARIMA: {ARIMA_test_RMSE_std}')"
   ]
  },
  {
   "cell_type": "code",
   "execution_count": 69,
   "id": "6ce122f9-c7f9-4326-9daa-2a713339ac73",
   "metadata": {
    "scrolled": true
   },
   "outputs": [
    {
     "data": {
      "text/plain": [
       "FriedmanchisquareResult(statistic=253.4000000000001, pvalue=9.438199279455322e-56)"
      ]
     },
     "execution_count": 69,
     "metadata": {},
     "output_type": "execute_result"
    }
   ],
   "source": [
    "from scipy.stats import friedmanchisquare\n",
    "from scipy.stats import rankdata\n",
    "\n",
    "friedman_MAE = friedmanchisquare(grupo['knn_MAE'], grupo['xgb_MAE'], grupo['ARIMA_MAE']) \n",
    "\n",
    "friedman_MAE"
   ]
  },
  {
   "cell_type": "code",
   "execution_count": 70,
   "id": "b5ccd762-32b4-44c4-89bc-0def0811c030",
   "metadata": {},
   "outputs": [
    {
     "name": "stdout",
     "output_type": "stream",
     "text": [
      "Rank médio da MAE dos modelos:\n",
      "Modelo 1: 1.250\n",
      "Modelo 2: 2.200\n",
      "Modelo 3: 2.550\n"
     ]
    }
   ],
   "source": [
    "# Aplicar ranking por linha (menor MAE = melhor)\n",
    "ranks_MAE = grupo[['knn_MAE', 'xgb_MAE', 'ARIMA_MAE']].apply(rankdata, axis=1)\n",
    "mean_ranks_MAE = ranks_MAE.mean(axis=0)\n",
    "\n",
    "# Exibir ranking médio\n",
    "print(\"Rank médio da MAE dos modelos:\")\n",
    "for i, rank in enumerate(mean_ranks_MAE, start=1):\n",
    "    print(f\"Modelo {i}: {rank:.3f}\")"
   ]
  },
  {
   "cell_type": "code",
   "execution_count": 71,
   "id": "1387c76e-a62e-4f0d-b867-ca4b0c4987d8",
   "metadata": {},
   "outputs": [
    {
     "data": {
      "text/plain": [
       "FriedmanchisquareResult(statistic=409.93208221626446, pvalue=9.646713248570883e-90)"
      ]
     },
     "execution_count": 71,
     "metadata": {},
     "output_type": "execute_result"
    }
   ],
   "source": [
    "friedman_RMSE_train = friedmanchisquare(grupo['knn_train_RMSE'], grupo['xgb_train_RMSE'], grupo['ARIMA_train_RMSE']) \n",
    "\n",
    "friedman_RMSE_train"
   ]
  },
  {
   "cell_type": "code",
   "execution_count": 72,
   "id": "929acd46-0ef3-4345-aeb3-31c78ed5aa80",
   "metadata": {},
   "outputs": [
    {
     "name": "stdout",
     "output_type": "stream",
     "text": [
      "Rank médio da RMSE do treino dos modelos:\n",
      "Modelo 1: 1.020\n",
      "Modelo 2: 2.388\n",
      "Modelo 3: 2.593\n"
     ]
    }
   ],
   "source": [
    "# Aplicar ranking por linha (menor MAE = melhor)\n",
    "ranks_RMSE_train = grupo[['knn_train_RMSE', 'xgb_train_RMSE', 'ARIMA_train_RMSE']].apply(rankdata, axis=1)\n",
    "mean_ranks_RMSE_train = ranks_RMSE_train.mean(axis=0)\n",
    "\n",
    "# Exibir ranking médio\n",
    "print(\"Rank médio da RMSE do treino dos modelos:\")\n",
    "for i, rank in enumerate(mean_ranks_RMSE_train, start=1):\n",
    "    print(f\"Modelo {i}: {rank:.3f}\")"
   ]
  },
  {
   "cell_type": "code",
   "execution_count": null,
   "id": "81e270fb-87c3-4223-8ac5-d4ef42fde66c",
   "metadata": {},
   "outputs": [],
   "source": []
  },
  {
   "cell_type": "code",
   "execution_count": null,
   "id": "614fa6bd-0986-400f-8136-e42f222bf68d",
   "metadata": {},
   "outputs": [],
   "source": []
  }
 ],
 "metadata": {
  "kernelspec": {
   "display_name": "Python 3 (ipykernel)",
   "language": "python",
   "name": "python3"
  },
  "language_info": {
   "codemirror_mode": {
    "name": "ipython",
    "version": 3
   },
   "file_extension": ".py",
   "mimetype": "text/x-python",
   "name": "python",
   "nbconvert_exporter": "python",
   "pygments_lexer": "ipython3",
   "version": "3.11.7"
  }
 },
 "nbformat": 4,
 "nbformat_minor": 5
}
